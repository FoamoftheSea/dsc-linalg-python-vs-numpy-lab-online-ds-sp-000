{
 "cells": [
  {
   "cell_type": "markdown",
   "metadata": {},
   "source": [
    "# Pure Python vs. Numpy - Lab\n",
    "\n",
    "## Introduction \n",
    "\n",
    "Numpy, Scipy, and Pandas provide a significant increase in computational efficiency with complex mathematical operations as compared to Python's built-in arithmetic functions. In this lab, you will calculate and compare the processing speed required for calculating a dot product using both basic arithmetic operations in Python and Numpy's `.dot()` method. \n",
    "\n",
    "## Objectives\n",
    "You will be able to:\n",
    "\n",
    "- Compare the performance of high-dimensional matrix operations in Numpy vs. pure Python\n",
    "\n",
    "## Problem \n",
    "\n",
    "Write a routine to calculate the dot product between two $200 \\times 200$ dimensional matrices using:\n",
    "\n",
    "a) Pure Python (no libraries)\n",
    "\n",
    "b) Numpy's `.dot()` method \n",
    "\n",
    "\n",
    "### Create two $200 \\times 200$ matrices in Python and fill them with random values using `np.random.rand()` "
   ]
  },
  {
   "cell_type": "code",
   "execution_count": 15,
   "metadata": {},
   "outputs": [],
   "source": [
    "# Compare 200x200 matrix-matrix multiplication speed\n",
    "import numpy as np"
   ]
  },
  {
   "cell_type": "code",
   "execution_count": 16,
   "metadata": {},
   "outputs": [],
   "source": [
    "# Set up the variables\n",
    "A = np.random.rand(200, 200)\n",
    "B = np.random.rand(200, 200)"
   ]
  },
  {
   "cell_type": "code",
   "execution_count": 19,
   "metadata": {},
   "outputs": [
    {
     "data": {
      "text/plain": [
       "array([[0.29240053, 0.45196423, 0.70330086, 0.64395759, 0.35786479],\n",
       "       [0.81967049, 0.09548897, 0.58210304, 0.6199452 , 0.46703499],\n",
       "       [0.08600536, 0.14232086, 0.51910329, 0.95827259, 0.22599615],\n",
       "       [0.59153542, 0.34782914, 0.75469262, 0.33702977, 0.97773176],\n",
       "       [0.03137763, 0.15773792, 0.07006973, 0.97546025, 0.37243989]])"
      ]
     },
     "execution_count": 19,
     "metadata": {},
     "output_type": "execute_result"
    }
   ],
   "source": [
    "A[:5, :5]"
   ]
  },
  {
   "cell_type": "code",
   "execution_count": 20,
   "metadata": {},
   "outputs": [
    {
     "data": {
      "text/plain": [
       "array([[0.73870009, 0.00602642, 0.95509827, 0.85760662, 0.14815763],\n",
       "       [0.06865005, 0.08624991, 0.52025095, 0.78818274, 0.4950172 ],\n",
       "       [0.84661703, 0.51696223, 0.05832268, 0.92421699, 0.31909184],\n",
       "       [0.49908778, 0.8933921 , 0.39349868, 0.88568674, 0.80003423],\n",
       "       [0.10472219, 0.50097153, 0.28814431, 0.25397989, 0.60847143]])"
      ]
     },
     "execution_count": 20,
     "metadata": {},
     "output_type": "execute_result"
    }
   ],
   "source": [
    "B[:5, :5]"
   ]
  },
  {
   "cell_type": "markdown",
   "metadata": {},
   "source": [
    "## Pure Python\n",
    "\n",
    "* Initialize a zeros-filled `numpy` matrix\n",
    "* In Python, calculate the dot product using the formula \n",
    "\n",
    "\n",
    "$$ \\large C_{i,j}= \\sum_k A_{i,k}B_{k,j}$$\n",
    "\n",
    "\n",
    "* Use Python's `timeit` library to calculate the processing time\n",
    "* [Visit this link](https://www.pythoncentral.io/time-a-python-function/) for an in-depth explanation on how to time a function or routine in Python\n",
    "\n",
    "**Hint**: Use a nested `for` loop for accessing, calculating, and storing each scalar value in the resulting matrix. "
   ]
  },
  {
   "cell_type": "code",
   "execution_count": 17,
   "metadata": {},
   "outputs": [
    {
     "name": "stdout",
     "output_type": "stream",
     "text": [
      "Pure Python time: 4.047186851501465 sec.\n"
     ]
    }
   ],
   "source": [
    "import timeit\n",
    "\n",
    "C = np.zeros((200, 200))\n",
    "\n",
    "def dotprod(mat1, mat2):\n",
    "    for i in range(mat1.shape[0]):\n",
    "        for j in range(mat2.shape[1]):\n",
    "            val = 0\n",
    "            for k in range(mat1.shape[1]):\n",
    "                val += mat1[i, k] * mat2[k, j]\n",
    "            C[i, j] = val\n",
    "            \n",
    "# Start the timer\n",
    "start = timeit.time.time()\n",
    "\n",
    "dotprod(A, B)\n",
    "\n",
    "end = timeit.time.time()\n",
    "# Matrix multiplication in pure Python\n",
    "\n",
    "\n",
    "time_spent = end - start\n",
    "\n",
    "print('Pure Python time:', time_spent, 'sec.')"
   ]
  },
  {
   "cell_type": "code",
   "execution_count": 18,
   "metadata": {},
   "outputs": [
    {
     "data": {
      "text/plain": [
       "array([[53.01467117, 51.57097373, 51.35739335, 54.23592162, 47.92381651],\n",
       "       [48.89191109, 46.95459388, 47.23269117, 49.72174185, 45.10483649],\n",
       "       [51.74930099, 52.52590308, 51.61727106, 55.50363648, 47.68998865],\n",
       "       [50.0048762 , 51.64685748, 48.91744247, 54.57791932, 46.12138043],\n",
       "       [52.4565229 , 52.24601037, 50.35034598, 56.23688849, 48.83350931]])"
      ]
     },
     "execution_count": 18,
     "metadata": {},
     "output_type": "execute_result"
    }
   ],
   "source": [
    "C[:5, :5]"
   ]
  },
  {
   "cell_type": "markdown",
   "metadata": {},
   "source": [
    "## Numpy \n",
    "Set the timer and calculate the time taken by the `.dot()` method for multiplying $A$ and $B$ \n"
   ]
  },
  {
   "cell_type": "code",
   "execution_count": 22,
   "metadata": {},
   "outputs": [
    {
     "name": "stdout",
     "output_type": "stream",
     "text": [
      "Numpy time: 0.0009691715240478516 sec.\n"
     ]
    }
   ],
   "source": [
    "# Start the timer\n",
    "start = timeit.time.time()\n",
    "\n",
    "# Matrix multiplication in numpy\n",
    "D = A.dot(B)\n",
    "\n",
    "end = timeit.time.time()\n",
    "\n",
    "time_spent = end - start\n",
    "print('Numpy time:', time_spent, 'sec.')"
   ]
  },
  {
   "cell_type": "code",
   "execution_count": 23,
   "metadata": {},
   "outputs": [
    {
     "data": {
      "text/plain": [
       "array([[53.01467117, 51.57097373, 51.35739335, 54.23592162, 47.92381651],\n",
       "       [48.89191109, 46.95459388, 47.23269117, 49.72174185, 45.10483649],\n",
       "       [51.74930099, 52.52590308, 51.61727106, 55.50363648, 47.68998865],\n",
       "       [50.0048762 , 51.64685748, 48.91744247, 54.57791932, 46.12138043],\n",
       "       [52.4565229 , 52.24601037, 50.35034598, 56.23688849, 48.83350931]])"
      ]
     },
     "execution_count": 23,
     "metadata": {},
     "output_type": "execute_result"
    }
   ],
   "source": [
    "# We can see that the results are the same, in a very small fraction of the time.\n",
    "D[:5, :5]"
   ]
  },
  {
   "cell_type": "markdown",
   "metadata": {},
   "source": [
    "### Your comments"
   ]
  },
  {
   "cell_type": "code",
   "execution_count": 24,
   "metadata": {},
   "outputs": [
    {
     "data": {
      "text/plain": [
       "0.00024709661477637757"
      ]
     },
     "execution_count": 24,
     "metadata": {},
     "output_type": "execute_result"
    }
   ],
   "source": [
    "# Lets see what fraction of the time it took, rounding to the nearest thousandth of a sec\n",
    ".001 / 4.047"
   ]
  },
  {
   "cell_type": "code",
   "execution_count": null,
   "metadata": {},
   "outputs": [],
   "source": [
    "# It took .02% of the time to use numpy vs pure python"
   ]
  },
  {
   "cell_type": "markdown",
   "metadata": {},
   "source": [
    "## Summary\n",
    "\n",
    "In this lab, you performed a quick comparison between calculating a dot product in Numpy vs pure Python. You saw that Numpy is computationally much more efficient than pure Python code because of the sophisticated implementation of Numpy source code. You're encouraged to always perform time tests to fully appreciate the use of an additional library in Python. "
   ]
  }
 ],
 "metadata": {
  "kernelspec": {
   "display_name": "Python 3",
   "language": "python",
   "name": "python3"
  },
  "language_info": {
   "codemirror_mode": {
    "name": "ipython",
    "version": 3
   },
   "file_extension": ".py",
   "mimetype": "text/x-python",
   "name": "python",
   "nbconvert_exporter": "python",
   "pygments_lexer": "ipython3",
   "version": "3.7.3"
  }
 },
 "nbformat": 4,
 "nbformat_minor": 2
}
